{
 "cells": [
  {
   "cell_type": "code",
   "execution_count": 2,
   "id": "e26c18c8-c50f-4760-bfe8-c261805c024f",
   "metadata": {},
   "outputs": [],
   "source": [
    "from scipy.constants import c, elementary_charge"
   ]
  },
  {
   "cell_type": "code",
   "execution_count": 3,
   "id": "924d8f20-ed38-4c5f-91aa-27c0a4ac09e2",
   "metadata": {},
   "outputs": [],
   "source": [
    "Planck = 4.136*10**(-15)"
   ]
  },
  {
   "cell_type": "code",
   "execution_count": 5,
   "id": "6f30da5e-7e90-47bc-8ee6-8b91525c501a",
   "metadata": {},
   "outputs": [],
   "source": [
    "def calc_focus(enrg, zp_diam, zone_width):\n",
    "        # Calculates the focal distance for the given energy, ZP diam, and the outer zone width #\n",
    "        try:\n",
    "            focus = (enrg * zp_diam * zone_width) / (Planck * (c * 1 * 10**6))\n",
    "            print('calc_focus() call', focus)\n",
    "            return focus\n",
    "        except Exception as e:\n",
    "            print('calc_focus failed', e)\n",
    "            focus = 0\n",
    "        return focus"
   ]
  },
  {
   "cell_type": "code",
   "execution_count": 50,
   "id": "c3882bb5-930e-4d91-961a-d22a1d605bee",
   "metadata": {},
   "outputs": [
    {
     "name": "stdout",
     "output_type": "stream",
     "text": [
      "calc_focus() call 1371.8387957738312\n"
     ]
    },
    {
     "data": {
      "text/plain": [
       "1371.8387957738312"
      ]
     },
     "execution_count": 50,
     "metadata": {},
     "output_type": "execute_result"
    }
   ],
   "source": [
    "calc_focus(350, 270, 0.018)"
   ]
  },
  {
   "cell_type": "code",
   "execution_count": 54,
   "id": "9caec47c-b29f-4e79-83e8-c43cf844bec5",
   "metadata": {},
   "outputs": [
    {
     "name": "stdout",
     "output_type": "stream",
     "text": [
      "calc_focus() call 4000.007560717337\n"
     ]
    },
    {
     "data": {
      "text/plain": [
       "4000.007560717337"
      ]
     },
     "execution_count": 54,
     "metadata": {},
     "output_type": "execute_result"
    }
   ],
   "source": [
    "calc_focus(1020.53, 270, 0.018)"
   ]
  },
  {
   "cell_type": "code",
   "execution_count": 53,
   "id": "fc2cf61c-5f5a-4bcb-a42d-67b88d03970a",
   "metadata": {},
   "outputs": [
    {
     "data": {
      "text/plain": [
       "3.9195394164966606"
      ]
     },
     "execution_count": 53,
     "metadata": {},
     "output_type": "execute_result"
    }
   ],
   "source": [
    "2743.6775915476624/700"
   ]
  },
  {
   "cell_type": "code",
   "execution_count": 39,
   "id": "ba56402e-644d-47ae-ba7e-393eb31b514e",
   "metadata": {},
   "outputs": [],
   "source": [
    "import numpy as np\n",
    "import matplotlib.pyplot as plt"
   ]
  },
  {
   "cell_type": "code",
   "execution_count": 33,
   "id": "b85bd500-4d69-4ef2-9213-f77283e5f94b",
   "metadata": {},
   "outputs": [],
   "source": [
    "_pos_x = np.linspace(-5, 5, 512)  # (0.0,)\n",
    "_pos_y = np.linspace(-5, 5, 512)"
   ]
  },
  {
   "cell_type": "code",
   "execution_count": 42,
   "id": "0f0b4fcc-db86-4a0a-854e-33279e6f1cbe",
   "metadata": {},
   "outputs": [],
   "source": [
    "xx, yy = np.meshgrid(_pos_x, _pos_x)\n",
    "zz = np.sqrt(xx**2 + yy**2)\n",
    "zz = np.zeros((512, 512))"
   ]
  },
  {
   "cell_type": "code",
   "execution_count": 46,
   "id": "63223e9d-870b-4ceb-9450-7a8d63399a98",
   "metadata": {},
   "outputs": [],
   "source": [
    "for i in range(512):\n",
    "    zz[i] = i"
   ]
  },
  {
   "cell_type": "code",
   "execution_count": null,
   "id": "22f5d217-490f-4263-b305-0436c0d780cd",
   "metadata": {},
   "outputs": [],
   "source": []
  },
  {
   "cell_type": "code",
   "execution_count": 48,
   "id": "6a457e0b-9a4c-4b09-8d20-80a4fe5cbaf1",
   "metadata": {},
   "outputs": [
    {
     "data": {
      "text/plain": [
       "(-5.0, 5.0, -5.0, 5.0)"
      ]
     },
     "execution_count": 48,
     "metadata": {},
     "output_type": "execute_result"
    },
    {
     "data": {
      "image/png": "[encoded data removed]",
      "text/plain": [
       "<Figure size 432x288 with 1 Axes>"
      ]
     },
     "metadata": {
      "needs_background": "light"
     },
     "output_type": "display_data"
    }
   ],
   "source": [
    "h = plt.contour(_pos_x, _pos_y, zz)\n",
    "plt.axis('scaled')"
   ]
  },
  {
   "cell_type": "code",
   "execution_count": null,
   "id": "a2a7b7e3-2b4e-471e-87ec-387055dbb33e",
   "metadata": {},
   "outputs": [],
   "source": []
  },
  {
   "cell_type": "code",
   "execution_count": null,
   "id": "7464f5d6-47a3-4589-9a85-1252db4e874b",
   "metadata": {},
   "outputs": [],
   "source": []
  }
 ],
 "metadata": {
  "kernelspec": {
   "display_name": "Python 3",
   "language": "python",
   "name": "python3"
  },
  "language_info": {
   "codemirror_mode": {
    "name": "ipython",
    "version": 3
   },
   "file_extension": ".py",
   "mimetype": "text/x-python",
   "name": "python",
   "nbconvert_exporter": "python",
   "pygments_lexer": "ipython3",
   "version": "3.8.12"
  }
 },
 "nbformat": 4,
 "nbformat_minor": 5
}
